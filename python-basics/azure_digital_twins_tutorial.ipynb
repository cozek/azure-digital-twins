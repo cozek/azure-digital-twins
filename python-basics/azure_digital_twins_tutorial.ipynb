{
 "cells": [
  {
   "attachments": {},
   "cell_type": "markdown",
   "metadata": {},
   "source": [
    "# Azure Digital Twins with Python: A Basic Tutorial\n",
    "\n",
    "In the recent days, I have been trying to learn about digital twins and how to use them. Hence, I am making this short tutorial as a future reference to myself and perhaps also to others who might be trying to do the same. Of course, being able to create and manipulate them programmatically is part of that endeavor. More specifically, how to work with Azure Digital Twins using Python.\n",
    "\n",
    "Lets begin by first, defining what a digital twin is. While there are many definitions, I like the one from IBM :\n",
    "\n",
    "_A virtual model designed to accurately reflect a physical object._"
   ]
  },
  {
   "attachments": {},
   "cell_type": "markdown",
   "metadata": {},
   "source": [
    "## Creating the Virtual Environment"
   ]
  },
  {
   "attachments": {},
   "cell_type": "markdown",
   "metadata": {},
   "source": [
    "```sh\n",
    "azure-common==1.1.28\n",
    "azure-core==1.26.2\n",
    "azure-digitaltwins-core==1.2.0\n",
    "azure-identity==1.12.0\n",
    "azure-mgmt-authorization==3.0.0\n",
    "azure-mgmt-core==1.3.2\n",
    "azure-mgmt-digitaltwins==6.4.0\n",
    "azure-mgmt-resource==22.0.0\n",
    "```\n",
    "\n",
    "The version of the modules that I am working with in this tutorial are included above."
   ]
  },
  {
   "attachments": {},
   "cell_type": "markdown",
   "metadata": {},
   "source": [
    "## Create the resource group\n",
    "\n",
    "To do anything in Azure, we first need to create a resource group. So lets create one called 'Tutorial-RG'."
   ]
  },
  {
   "cell_type": "code",
   "execution_count": null,
   "metadata": {},
   "outputs": [],
   "source": [
    "from azure.identity import DefaultAzureCredential\n",
    "from azure.mgmt.resource import ResourceManagementClient\n",
    "from pprint import pprint"
   ]
  },
  {
   "attachments": {},
   "cell_type": "markdown",
   "metadata": {},
   "source": [
    "### Find out your Subscription ID"
   ]
  },
  {
   "cell_type": "code",
   "execution_count": null,
   "metadata": {},
   "outputs": [],
   "source": [
    "!az account list -o table"
   ]
  },
  {
   "cell_type": "code",
   "execution_count": null,
   "metadata": {},
   "outputs": [],
   "source": [
    "credential = DefaultAzureCredential()\n",
    "subscription_id = \"00000000-0000-0000-0000-000000000000\" # use your own"
   ]
  },
  {
   "cell_type": "code",
   "execution_count": null,
   "metadata": {},
   "outputs": [],
   "source": [
    "resource_client = ResourceManagementClient(\n",
    "    credential, subscription_id=subscription_id)"
   ]
  },
  {
   "cell_type": "code",
   "execution_count": null,
   "metadata": {},
   "outputs": [],
   "source": [
    "resource_group_name = \"Tutorial-RG\"\n",
    "rg_result = resource_client.resource_groups.create_or_update(\n",
    "    resource_group_name, {\"location\": \"westeurope\"}\n",
    ")"
   ]
  },
  {
   "cell_type": "code",
   "execution_count": null,
   "metadata": {},
   "outputs": [],
   "source": [
    "pprint(rg_result)"
   ]
  },
  {
   "attachments": {},
   "cell_type": "markdown",
   "metadata": {},
   "source": [
    "# Instantiating a digital twin "
   ]
  },
  {
   "cell_type": "code",
   "execution_count": null,
   "metadata": {},
   "outputs": [],
   "source": [
    "from azure.mgmt.digitaltwins import AzureDigitalTwinsManagementClient"
   ]
  },
  {
   "cell_type": "code",
   "execution_count": null,
   "metadata": {},
   "outputs": [],
   "source": [
    "client = AzureDigitalTwinsManagementClient(\n",
    "    credential = DefaultAzureCredential(),\n",
    "    subscription_id = subscription_id,\n",
    ")"
   ]
  },
  {
   "cell_type": "code",
   "execution_count": null,
   "metadata": {},
   "outputs": [],
   "source": [
    "dt_resource_name = \"Tutorial-DT\"\n",
    "dt_response = client.digital_twins.begin_create_or_update(\n",
    "    resource_group_name=rg_result.name,\n",
    "    resource_name = dt_resource_name,\n",
    "    digital_twins_create={\"location\": \"westeurope\"},\n",
    ").result()\n",
    "print(dt_response)"
   ]
  },
  {
   "cell_type": "code",
   "execution_count": null,
   "metadata": {},
   "outputs": [],
   "source": [
    "print(dt_response.host_name)"
   ]
  },
  {
   "attachments": {},
   "cell_type": "markdown",
   "metadata": {},
   "source": [
    "### Adding the Azure Digital Twin Data Owner Role"
   ]
  },
  {
   "cell_type": "code",
   "execution_count": null,
   "metadata": {},
   "outputs": [],
   "source": [
    "from azure.mgmt.authorization import AuthorizationManagementClient\n",
    "import uuid"
   ]
  },
  {
   "cell_type": "code",
   "execution_count": null,
   "metadata": {},
   "outputs": [],
   "source": [
    "# resource_client = ResourceManagementClient(\n",
    "#     credential=DefaultAzureCredential(),\n",
    "#     subscription_id=subscription_id\n",
    "# )"
   ]
  },
  {
   "cell_type": "code",
   "execution_count": null,
   "metadata": {},
   "outputs": [],
   "source": [
    "# https://github.com/Azure-Samples/azure-samples-python-management/blob/main/samples/authorization/manage_role_assignment.py#L1\n",
    "authorization_client = AuthorizationManagementClient(\n",
    "    credential=DefaultAzureCredential(),\n",
    "    subscription_id=subscription_id,\n",
    "    api_version=\"2018-01-01-preview\"\n",
    ")\n",
    "\n",
    "adt_data_owner_role_id ='bcd981a7-7f74-457b-83e1-cceb9e632ffe'\n",
    "scope = f'/subscriptions/{subscription_id}/resourceGroups/{resource_group_name}'\n",
    "\n",
    "try:\n",
    "    role_assignment = authorization_client.role_assignments.create(\n",
    "        scope,\n",
    "        str(uuid.uuid4()),\n",
    "        {\n",
    "            \"role_definition_id\": \"/subscriptions/\" \n",
    "            + subscription_id \n",
    "            + \"/providers/Microsoft.Authorization/roleDefinitions/\" \n",
    "            + adt_data_owner_role_id,\n",
    "            \"principal_id\": 'use-your-principal-id', # get your principal ID from azure portal\n",
    "        }\n",
    "    )\n",
    "    print(role_assignment)\n",
    "except Exception as e:\n",
    "    print(e)\n"
   ]
  },
  {
   "cell_type": "code",
   "execution_count": null,
   "metadata": {},
   "outputs": [],
   "source": [
    "# https://learn.microsoft.com/en-us/azure/digital-twins/concepts-security#authorization-azure-roles-for-azure-digital-twins\n",
    "# https://learn.microsoft.com/en-us/azure/digital-twins/how-to-authenticate-client#assign-an-access-role\n",
    "# give yourself a Data Owner Role\n",
    "# !az dt role-assignment create --dt-name myDigitalTwinsService --assignee \"<USE YOUR PRINCIPAL ID>\" --role \"Azure Digital Twins Data Owner\" --debug"
   ]
  },
  {
   "attachments": {},
   "cell_type": "markdown",
   "metadata": {},
   "source": [
    "# Digital Twin Instantiation via Portal (old)\n",
    "\n",
    "follow Microsoft's guide to setup your Azure digital twin instance and proper authentication.\n",
    "\n",
    "https://learn.microsoft.com/en-us/azure/digital-twins/how-to-set-up-instance-portal"
   ]
  },
  {
   "attachments": {},
   "cell_type": "markdown",
   "metadata": {},
   "source": [
    "## Azure DT Service Client\n",
    "\n",
    "Lets create service client to access the SDK functions for digital twin manipulation.\n"
   ]
  },
  {
   "cell_type": "code",
   "execution_count": null,
   "metadata": {},
   "outputs": [],
   "source": [
    "from azure.digitaltwins.core import DigitalTwinsClient"
   ]
  },
  {
   "cell_type": "code",
   "execution_count": null,
   "metadata": {},
   "outputs": [],
   "source": [
    "# Replace the instance url of your digital twin here\n",
    "adtInstanceUrl = f\"https://{dt_response.host_name}\"\n",
    "\n",
    "dt_client = DigitalTwinsClient(adtInstanceUrl, DefaultAzureCredential())\n",
    "print(\"Service Client Created! Ready to go\")"
   ]
  },
  {
   "cell_type": "code",
   "execution_count": null,
   "metadata": {},
   "outputs": [],
   "source": [
    "adtInstanceUrl\n"
   ]
  },
  {
   "attachments": {},
   "cell_type": "markdown",
   "metadata": {},
   "source": [
    "## Uploading a Model\n",
    "\n",
    "We need a model to base our digital off of. Below, we have a sample model as a `dict`. However, we can also load one from a json file.\n",
    "\n",
    "Microsoft provides an detailed write up about the concepts of models for digital twins.\n",
    "\n",
    "https://learn.microsoft.com/en-us/azure/digital-twins/concepts-models"
   ]
  },
  {
   "cell_type": "code",
   "execution_count": null,
   "metadata": {},
   "outputs": [],
   "source": [
    "sample_model = {\n",
    "    \"@id\": \"dtmi:example:SampleModel;1\",\n",
    "    \"@type\": \"Interface\",\n",
    "    \"displayName\": \"SampleModel\",\n",
    "    \"contents\": [\n",
    "        {\n",
    "            \"@type\": \"Relationship\",\n",
    "            \"name\": \"contains\"\n",
    "        },\n",
    "        {\n",
    "            \"@type\": \"Property\",\n",
    "            \"name\": \"data\",\n",
    "            \"schema\": \"string\"\n",
    "        },\n",
    "        {\n",
    "            \"@type\": \"Telemetry\",\n",
    "            \"name\": \"sensor\",\n",
    "            \"schema\": \"double\"      \n",
    "        }\n",
    "    ],\n",
    "    \"@context\": \"dtmi:dtdl:context;2\"\n",
    "}"
   ]
  },
  {
   "cell_type": "code",
   "execution_count": null,
   "metadata": {},
   "outputs": [],
   "source": [
    "# if you have the model defined as a seperate json, just read it like so:\n",
    "\n",
    "# with open(\"SampleModel.json\", 'r') as f:\n",
    "#     sample_model = json.load(f)\n",
    "# pprint(sample_model)"
   ]
  },
  {
   "attachments": {},
   "cell_type": "markdown",
   "metadata": {},
   "source": [
    "It's good practice to put our call for model creation inside a try-except statement. This is because we cannot upload two models with the same id and subsequent calls with the models having the same id will throw an error."
   ]
  },
  {
   "cell_type": "code",
   "execution_count": null,
   "metadata": {},
   "outputs": [],
   "source": [
    "try:\n",
    "    # put all the models that we want to create into a list\n",
    "    models = [sample_model]\n",
    "    dt_client.create_models(models)\n",
    "    print(\"Model uploaded to the instance\")\n",
    "except Exception as e:\n",
    "    print(e)"
   ]
  },
  {
   "attachments": {},
   "cell_type": "markdown",
   "metadata": {},
   "source": [
    "<!-- ![title](images/model_upload.png) -->\n",
    "It should show up in the model explorer as follows:\n",
    "\n",
    "<img src=\"images/model_upload.png\" width=\"800\" height=\"500\" />"
   ]
  },
  {
   "attachments": {},
   "cell_type": "markdown",
   "metadata": {},
   "source": [
    "## Retreive uploaded models\n",
    "\n",
    "Now that we have creaated our models, lets make call to retreive them."
   ]
  },
  {
   "cell_type": "code",
   "execution_count": null,
   "metadata": {},
   "outputs": [],
   "source": [
    "# Get list of models\n",
    "models_list = dt_client.list_models()\n",
    "for m in models_list:\n",
    "    print(m.id)"
   ]
  },
  {
   "cell_type": "code",
   "execution_count": null,
   "metadata": {},
   "outputs": [],
   "source": [
    "# For now, we just have a single model\n",
    "# We can also retreive a model's information as a dict\n",
    "m.as_dict()"
   ]
  },
  {
   "attachments": {},
   "cell_type": "markdown",
   "metadata": {},
   "source": [
    "## Creating a digital twin\n",
    "Now that we have uploaded a model, we can use it to create a digital twin out of it."
   ]
  },
  {
   "cell_type": "code",
   "execution_count": null,
   "metadata": {},
   "outputs": [],
   "source": [
    "# unique id of the digital twin\n",
    "digital_twin_id = 'digiTwin-1'\n",
    "\n",
    "# the necessary metadata of the digital twin\n",
    "temp_twin = {\n",
    "    \"$metadata\": {\n",
    "        \"$model\": \"dtmi:example:SampleModel;1\" #give the model's id here\n",
    "    },\n",
    "    \"$dtId\": digital_twin_id,\n",
    "    \"data\": \"Hello World\"\n",
    "}\n",
    "created_twin = dt_client.upsert_digital_twin(digital_twin_id, temp_twin)\n",
    "print(\"DT Created\")"
   ]
  },
  {
   "attachments": {},
   "cell_type": "markdown",
   "metadata": {},
   "source": [
    "Lets create a few more twins. \n",
    "\n",
    "Our digital twin should show up in the model explorer as follows:\n",
    "(Click the run query button with the default \"SELECT * FROM digitaltwins\")\n",
    "\n",
    "<img src=\"images/digital_twin_1.png\" width=\"800\" height=\"500\"  />\n",
    "\n",
    "Lets create 2 more twins. Unlike uploading a model, no error is thrown if a digital twin with the same ID already exists. An attempt to create the same twin again will just replace the original twin."
   ]
  },
  {
   "cell_type": "code",
   "execution_count": null,
   "metadata": {},
   "outputs": [],
   "source": [
    "# creating some twins\n",
    "prefix = \"digiTwin-\"\n",
    "for i in range(1, 4):\n",
    "    twin_id = f'{prefix}{i}'\n",
    "    temp_twin = {\n",
    "        \"$metadata\": {\n",
    "            \"$model\": \"dtmi:example:SampleModel;1\"\n",
    "        },\n",
    "        \"$dtId\": twin_id,\n",
    "        \"data\": \"Hello World\"\n",
    "    }\n",
    "    created_twin = dt_client.upsert_digital_twin(twin_id, temp_twin)\n",
    "    print(f\"Created twin: {created_twin['$dtId']}\")"
   ]
  },
  {
   "attachments": {},
   "cell_type": "markdown",
   "metadata": {},
   "source": [
    "Azure Digital Twin explorer should show the newly created twin. \n",
    "Don't forget to click the `Run Query` button for it to show up.\n",
    "\n",
    "<img src=\"images/digital_twin_2.png\" width=\"800\" height=\"500\"  />\n"
   ]
  },
  {
   "attachments": {},
   "cell_type": "markdown",
   "metadata": {},
   "source": [
    "## Relationships\n",
    "\n",
    "Next, we will create relationships among the twins that we have created so that we can connect them in a so-called `twin graph`.\n",
    "Quoting from Microsoft:\n",
    "```\n",
    "A digital twin is an instance of one of your custom-defined models. It can be connected to other digital twins via relationships to form a twin graph: this twin graph is the representation of your entire environment.\n",
    "```\n",
    "\n",
    "https://learn.microsoft.com/en-us/azure/digital-twins/concepts-twins-graph\n",
    "\n",
    "Recall that our model has the a relationship called `contains`. In the example below, we use that to create a contains relationship from `digiTwin-1` to `digiTwin-2` and `digiTwin-3`."
   ]
  },
  {
   "cell_type": "code",
   "execution_count": null,
   "metadata": {},
   "outputs": [],
   "source": [
    "# Creating relationships\n",
    "for i in [2, 3]:\n",
    "    relationship = {\n",
    "        \"$relationshipId\": f\"contains-{i}\", # give the relationship some unique id\n",
    "        \"$sourceId\": f'{prefix}{1}', # give the id of the source twin\n",
    "        \"$relationshipName\": \"contains\", # give the relationship name as defined in the model\n",
    "        \"$targetId\": f'{prefix}{i}', # give the id of the target twin\n",
    "    }\n",
    "    # make the call to create the relationship\n",
    "    rel = dt_client.upsert_relationship(\n",
    "        relationship[\"$sourceId\"],\n",
    "        relationship[\"$relationshipId\"],\n",
    "        relationship\n",
    "    )\n",
    "    print(\n",
    "        f\"Created Relationship '{rel['$relationshipName']}' from {rel['$sourceId']} to {rel['$targetId']}\")\n"
   ]
  },
  {
   "attachments": {},
   "cell_type": "markdown",
   "metadata": {},
   "source": [
    "The Azure DT explorer should also show the relationships:\n",
    "(May need to wait a minute or two for it to show up sometimes)\n",
    "\n",
    "<img src=\"images/relationship_1.png\" width=\"800\" height=\"500\"  />\n"
   ]
  },
  {
   "attachments": {},
   "cell_type": "markdown",
   "metadata": {},
   "source": [
    "Lets list the created relationships:"
   ]
  },
  {
   "cell_type": "code",
   "execution_count": null,
   "metadata": {},
   "outputs": [],
   "source": [
    "created_relationships = dt_client.list_relationships(f'{prefix}{1}')\n",
    "for r in created_relationships:\n",
    "    pprint(r)"
   ]
  },
  {
   "cell_type": "code",
   "execution_count": null,
   "metadata": {},
   "outputs": [],
   "source": [
    "# The relationships can also be viewed from the target twins\n",
    "for i in range(1, 4):\n",
    "    incoming_relationships = dt_client.list_incoming_relationships(\n",
    "        f'{prefix}{i}')\n",
    "    for r in incoming_relationships:\n",
    "        pprint(f\"{prefix}{i} has incoming relationship: {r.as_dict()}\")\n"
   ]
  },
  {
   "attachments": {},
   "cell_type": "markdown",
   "metadata": {},
   "source": [
    "## Update Property"
   ]
  },
  {
   "attachments": {},
   "cell_type": "markdown",
   "metadata": {},
   "source": [
    "Recall that each twin has a property called data. So, far we have let that be just \"hello world\". We can update the property as follows:"
   ]
  },
  {
   "cell_type": "code",
   "execution_count": null,
   "metadata": {},
   "outputs": [],
   "source": [
    "# update property of dt\n",
    "digital_twin_id = \"digiTwin-1\"\n",
    "data_update = {\n",
    "    \"$metadata\": {\n",
    "        \"$model\": \"dtmi:example:SampleModel;1\"\n",
    "    },\n",
    "    'data': f'New Data for {digital_twin_id}'\n",
    "}\n",
    "dt_client.upsert_digital_twin(digital_twin_id, data_update)"
   ]
  },
  {
   "attachments": {},
   "cell_type": "markdown",
   "metadata": {},
   "source": [
    "Notice that the data changed in the properties panel for `digiTwin-1`.\n",
    "\n",
    "<img src=\"images/data_update.png\" width=\"800\" height=\"500\"  />"
   ]
  },
  {
   "attachments": {},
   "cell_type": "markdown",
   "metadata": {},
   "source": [
    "## Publish Telemetry"
   ]
  },
  {
   "cell_type": "code",
   "execution_count": null,
   "metadata": {},
   "outputs": [],
   "source": [
    "# update property of dt\n",
    "digital_twin_id = \"digiTwin-1\"\n",
    "telemetry_payload = '{\"sensor\": 10.1}'\n",
    "dt_client.publish_telemetry(\n",
    "    digital_twin_id,\n",
    "    telemetry_payload\n",
    ")"
   ]
  },
  {
   "attachments": {},
   "cell_type": "markdown",
   "metadata": {},
   "source": [
    "## Queries\n",
    "\n",
    "We can retreive the twins created so far in our digital instance by running queries.\n",
    "Lets just run the `SELECT * FROM digitaltwins` query for now:\n",
    "\n",
    "https://learn.microsoft.com/en-us/azure/digital-twins/concepts-query-language"
   ]
  },
  {
   "cell_type": "code",
   "execution_count": null,
   "metadata": {},
   "outputs": [],
   "source": [
    "query_expression = 'SELECT * FROM digitaltwins'\n",
    "query_result = dt_client.query_twins(query_expression)\n",
    "print('DigitalTwins:')\n",
    "for twin in query_result:\n",
    "    print(twin['$dtId'])\n"
   ]
  },
  {
   "attachments": {},
   "cell_type": "markdown",
   "metadata": {},
   "source": [
    "Thats about it for this basic tutorial. Lets delete every twin next:"
   ]
  },
  {
   "cell_type": "code",
   "execution_count": null,
   "metadata": {},
   "outputs": [],
   "source": [
    "digital_twin_id = 'digiTwin-1'\n",
    "dt_client.delete_digital_twin(digital_twin_id)  # this will fail"
   ]
  },
  {
   "attachments": {},
   "cell_type": "markdown",
   "metadata": {},
   "source": [
    "We can't just delete a twin directly that has active relationships. So we have to delete the relationships first before we can delete the twin:"
   ]
  },
  {
   "cell_type": "code",
   "execution_count": null,
   "metadata": {},
   "outputs": [],
   "source": [
    "# Delete all active relationship (needed to delete twins)\n",
    "query_expression = 'SELECT * FROM digitaltwins'\n",
    "query_result = dt_client.query_twins(query_expression)  # get all twins\n",
    "print('DigitalTwins:')\n",
    "for twin in query_result:\n",
    "    # print(twin)\n",
    "    digital_twin_id = twin['$dtId']\n",
    "    relationships = dt_client.list_relationships(digital_twin_id) # list the twins relationships\n",
    "    for relationship in relationships:\n",
    "        relationship_id = relationship['$relationshipId']\n",
    "        dt_client.delete_relationship(digital_twin_id, relationship_id) # delete the relationship\n",
    "        print(f'Deleted: {relationship} from {digital_twin_id}')"
   ]
  },
  {
   "cell_type": "code",
   "execution_count": null,
   "metadata": {},
   "outputs": [],
   "source": [
    "# Now we can delete all the twins\n",
    "query_expression = 'SELECT * FROM digitaltwins'\n",
    "query_result = dt_client.query_twins(query_expression)\n",
    "for twin in query_result:\n",
    "    digital_twin_id = twin['$dtId']\n",
    "    dt_client.delete_digital_twin(digital_twin_id)\n",
    "    print(f'Deleted twin: {digital_twin_id}')"
   ]
  },
  {
   "attachments": {},
   "cell_type": "markdown",
   "metadata": {},
   "source": [
    "Lets also delete the models:"
   ]
  },
  {
   "cell_type": "code",
   "execution_count": null,
   "metadata": {},
   "outputs": [],
   "source": [
    "for model in dt_client.list_models():\n",
    "    print(model)\n",
    "    dt_client.delete_model(model.id)\n",
    "    print(f'Deleted : {model.id}')"
   ]
  },
  {
   "cell_type": "code",
   "execution_count": null,
   "metadata": {},
   "outputs": [],
   "source": [
    "# delete resource group\n",
    "poller = resource_client.resource_groups.begin_delete(rg_result.name)\n",
    "result = poller.result()\n"
   ]
  },
  {
   "attachments": {},
   "cell_type": "markdown",
   "metadata": {},
   "source": [
    "END"
   ]
  }
 ],
 "metadata": {
  "kernelspec": {
   "display_name": "dt",
   "language": "python",
   "name": "python3"
  },
  "language_info": {
   "codemirror_mode": {
    "name": "ipython",
    "version": 3
   },
   "file_extension": ".py",
   "mimetype": "text/x-python",
   "name": "python",
   "nbconvert_exporter": "python",
   "pygments_lexer": "ipython3",
   "version": "3.10.9"
  },
  "orig_nbformat": 4,
  "vscode": {
   "interpreter": {
    "hash": "b995e32be029c0b2ad2096c425277131d57f70a3c0e891d5f8d0fe2f81c8f501"
   }
  }
 },
 "nbformat": 4,
 "nbformat_minor": 2
}
